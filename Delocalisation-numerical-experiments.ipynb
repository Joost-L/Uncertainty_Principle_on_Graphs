{
 "cells": [
  {
   "cell_type": "code",
   "execution_count": null,
   "id": "51ad5b07",
   "metadata": {},
   "outputs": [],
   "source": [
    "#import networkx as nx\n",
    "import numpy as np\n",
    "#import seaborn as sb\n",
    "#import scipy\n",
    "import matplotlib.pyplot as plt\n",
    "import cvxpy as cp"
   ]
  },
  {
   "cell_type": "markdown",
   "id": "e3ec368a",
   "metadata": {
    "jp-MarkdownHeadingCollapsed": true
   },
   "source": [
    "### Utility Functions"
   ]
  },
  {
   "cell_type": "code",
   "execution_count": null,
   "id": "76fe7777",
   "metadata": {},
   "outputs": [],
   "source": [
    "sample = np.random.sample"
   ]
  },
  {
   "cell_type": "code",
   "execution_count": null,
   "id": "5f8f3b0b",
   "metadata": {},
   "outputs": [],
   "source": [
    "#Given a list of weights, will pick a random index with likelihood corresponding to the weight\n",
    "def pickRandomIndex(weights,total):\n",
    "    t = sample() * total;\n",
    "    i = 0;\n",
    "    for w in weights:\n",
    "        t -= w\n",
    "        if t < 0:\n",
    "            return i;\n",
    "        i += 1;\n",
    "    raise ValueError('total is bigger than the sum of weights')"
   ]
  },
  {
   "cell_type": "markdown",
   "id": "b098d106",
   "metadata": {
    "jp-MarkdownHeadingCollapsed": true
   },
   "source": [
    "### Generation Functions"
   ]
  },
  {
   "cell_type": "code",
   "execution_count": null,
   "id": "0e6f3a49",
   "metadata": {},
   "outputs": [],
   "source": [
    "#random matrix with edge density p\n",
    "def randomPMatrix(n,p):\n",
    "    A = np.zeros([n,n]);\n",
    "    for i in range(1,n):\n",
    "        for j in range(i):\n",
    "            if sample() < p:\n",
    "                A[i,j] = 1;\n",
    "                A[j,i] = 1;\n",
    "    return A"
   ]
  },
  {
   "cell_type": "code",
   "execution_count": null,
   "id": "fb4ecaf5",
   "metadata": {},
   "outputs": [],
   "source": [
    "#random d-regular graph\n",
    "errorbound = 10;\n",
    "\n",
    "def randomDRegular(n,d):\n",
    "    A = np.ones([1,1]) * -1\n",
    "    #num = 1\n",
    "    while A[0,0] == -1:\n",
    "        A = tryRandomDRegular(n,d)\n",
    "        #print(\"n = \",n, \"\\n Attempt:\",num)\n",
    "        #num += 1\n",
    "    return A\n",
    "\n",
    "\n",
    "def tryRandomDRegular(n,d):\n",
    "    A = np.zeros([n,n]);\n",
    "    weights = d*np.ones([n]);\n",
    "    total = d*n\n",
    "    error = 0;\n",
    "    while total > 0:\n",
    "        i = pickRandomIndex(weights, total)\n",
    "        j = pickRandomIndex(weights, total)\n",
    "        if i != j and A[i,j] == 0:\n",
    "            A[i,j] = 1\n",
    "            A[j,i] = 1\n",
    "            weights[i] -= 1\n",
    "            weights[j] -= 1\n",
    "            total -= 2\n",
    "            error = 0\n",
    "        else:\n",
    "            error += 1\n",
    "        if error >= errorbound:\n",
    "            return np.ones([1,1])*-1\n",
    "    return A"
   ]
  },
  {
   "cell_type": "code",
   "execution_count": null,
   "id": "ce0c2d70",
   "metadata": {},
   "outputs": [],
   "source": [
    "#random d-regular graph\n",
    "def modifiedRandomDRegular(n,d):\n",
    "    A = np.ones([1,1]) * -1\n",
    "    while A[0,0] == -1:\n",
    "        A = RandomDRegularAttempt(n,d)\n",
    "    return A\n",
    "\n",
    "def RandomDRegularAttempt(n,d):\n",
    "    A = np.zeros([n,n]);\n",
    "    #Amount of edges still needed for each vertex and in total\n",
    "    weights = d*np.ones([n]);\n",
    "    total = d*n\n",
    "    while total > 0:\n",
    "        i = pickRandomIndex(weights, total)\n",
    "        #weights altered for index i to exclude vertex i and any vertex j already connected to i\n",
    "        iWeights = np.zeros([n]);\n",
    "        iTotal = 0;\n",
    "        for j in range(n):\n",
    "            if(i != j and A[i,j] == 0):\n",
    "                iWeights[j] = weights[j]\n",
    "                iTotal += weights[j]\n",
    "        if(iTotal == 0):\n",
    "            #Vertex i has less than d connections but has no possible connections left\n",
    "            return np.ones([1,1])*-1\n",
    "        j = pickRandomIndex(iWeights, iTotal)\n",
    "        #connect i and j\n",
    "        A[i,j] = 1\n",
    "        A[j,i] = 1\n",
    "        weights[i] -= 1\n",
    "        weights[j] -= 1\n",
    "        total -= 2\n",
    "    return A"
   ]
  },
  {
   "cell_type": "code",
   "execution_count": null,
   "id": "488b7509",
   "metadata": {},
   "outputs": [],
   "source": [
    "#random Barabási–Albert small world graph\n",
    "#Note that every vertex we add will add m connections and thus increase total degree by 2m\n",
    "#Therefore for n -> \\infinity we see that the average degree will approach 2m\n",
    "\n",
    "def BASmallWorld(n,m):\n",
    "    A = np.zeros([n,n]);\n",
    "    weights = np.zeros([n]);\n",
    "    for i in range(m):\n",
    "        weights[i] = 1\n",
    "        A[i,m] = 1\n",
    "        A[m,i] = 1\n",
    "    weights[m] = m\n",
    "    total = 2*m\n",
    "    for i in range(m + 1,n):\n",
    "        d = m\n",
    "        while d > 0:\n",
    "            j = pickRandomIndex(weights,total)\n",
    "            if i != j and A[i,j] == 0:\n",
    "                A[i,j] = 1\n",
    "                A[j,i] = 1\n",
    "                weights[i] += 1\n",
    "                weights[j] += 1\n",
    "                total += 1\n",
    "                d -= 1\n",
    "        total += m\n",
    "    return A"
   ]
  },
  {
   "cell_type": "code",
   "execution_count": null,
   "id": "2002a6e3",
   "metadata": {},
   "outputs": [],
   "source": [
    "#random Watts–Strogatz small world graph\n",
    "#Note: input K/2 instead of K\n",
    "def WSSmallWorld(n,K, b):\n",
    "    A = np.zeros([n,n]);\n",
    "    for i in range(n):\n",
    "        for k in range(K):\n",
    "            j = np.mod(i + 1 + k,n)\n",
    "            A[i,j] = 1\n",
    "            A[j,i] = 1\n",
    "    for i in range(n):\n",
    "        for k in range(K):\n",
    "            #chance = beta to rewire\n",
    "            if sample() < b:\n",
    "\n",
    "                j = np.mod(i + 1 + k, n)\n",
    "                l = j\n",
    "            \n",
    "                #find l that i is not connected to\n",
    "                while A[i,l] == 1 or i == l:\n",
    "                    l = np.random.randint(n)\n",
    "                \n",
    "                #rewire to l\n",
    "                A[i,j] = 0\n",
    "                A[j,i] = 0\n",
    "                A[i,l] = 1\n",
    "                A[l,i] = 1\n",
    "    return A"
   ]
  },
  {
   "cell_type": "markdown",
   "id": "a5097b0a",
   "metadata": {
    "jp-MarkdownHeadingCollapsed": true
   },
   "source": [
    "### Matrix Preperation"
   ]
  },
  {
   "cell_type": "code",
   "execution_count": null,
   "id": "d6d04497",
   "metadata": {},
   "outputs": [],
   "source": [
    "#How does the average Degree depend on n?\n",
    "def averageDegree(n):\n",
    "    return 2*int(np.ceil(np.sqrt(n)))"
   ]
  },
  {
   "cell_type": "code",
   "execution_count": null,
   "id": "3b915221-79ed-4f39-8c7b-1146184a1d03",
   "metadata": {},
   "outputs": [],
   "source": [
    "#Utility function\n",
    "def phiSquared(A):\n",
    "    u, V = np.linalg.eigh(A)\n",
    "    return np.array(np.multiply(V, V))"
   ]
  },
  {
   "cell_type": "code",
   "execution_count": null,
   "id": "4b923c1b",
   "metadata": {},
   "outputs": [],
   "source": [
    "#Generate matrices for different sizes\n",
    "matrixSizes = np.arange(25,400,25)\n",
    "\n",
    "pAdjMatrices = []\n",
    "dRegularAdjMatrices = []\n",
    "BAAdjMatrices = []\n",
    "WSAdjMatrices = []\n",
    "rewireChance = .3\n",
    "\n",
    "for i in range(matrixSizes.shape[0]):\n",
    "    n = matrixSizes[i]\n",
    "    k = averageDegree(n)\n",
    "    \n",
    "    pAdjMatrices.append(randomPMatrix(n, k/n))\n",
    "    dRegularAdjMatrices.append( randomDRegular(n,k))\n",
    "    BAAdjMatrices.append( BASmallWorld(n, np.floor(k/2).astype(int)))\n",
    "    WSAdjMatrices.append( WSSmallWorld(n, np.floor(k/2).astype(int), rewireChance))\n",
    "\n",
    "#Transform adjacency matrix to \\Phi^2\n",
    "pMatrices = list(map(phiSquared, pAdjMatrices))\n",
    "dRegularMatrices = list(map(phiSquared, dRegularAdjMatrices))\n",
    "BAMatrices = list(map(phiSquared, BAAdjMatrices))\n",
    "WSMatrices = list(map(phiSquared, WSAdjMatrices))"
   ]
  },
  {
   "cell_type": "code",
   "execution_count": null,
   "id": "942e25d6",
   "metadata": {},
   "outputs": [],
   "source": [
    "#Run individual lists/entries to view the results\n",
    "#WSMatrices"
   ]
  },
  {
   "cell_type": "code",
   "execution_count": null,
   "id": "46cc9e09-88d5-44ad-bf47-2633b6b3dd29",
   "metadata": {},
   "outputs": [],
   "source": [
    "# Methods"
   ]
  },
  {
   "cell_type": "markdown",
   "id": "9db77c49",
   "metadata": {
    "jp-MarkdownHeadingCollapsed": true
   },
   "source": [
    "## Standard Methods"
   ]
  },
  {
   "cell_type": "code",
   "execution_count": null,
   "id": "98f7665b",
   "metadata": {},
   "outputs": [],
   "source": [
    "#supremum lower\n",
    "def sup_lower_approx(VV, n):\n",
    "    return int(np.ceil(1/np.max(VV)))"
   ]
  },
  {
   "cell_type": "code",
   "execution_count": null,
   "id": "5d855f31",
   "metadata": {},
   "outputs": [],
   "source": [
    "#greedy lower\n",
    "def lower_approx(VV, n):\n",
    "    vflat = VV.reshape(n*n)\n",
    "    res = 0\n",
    "    count = 0\n",
    "    sorted = np.argsort(vflat)\n",
    "    while res < 1:\n",
    "        count += 1\n",
    "        res += vflat[sorted[-count]]\n",
    "    return count"
   ]
  },
  {
   "cell_type": "code",
   "execution_count": null,
   "id": "e279b96b",
   "metadata": {},
   "outputs": [],
   "source": [
    "#linear lower\n",
    "def linear_approx(V2, n):\n",
    "    x = cp.Variable(n)\n",
    "    y = cp.Variable(n)\n",
    "    u = cp.Variable((n,n))\n",
    "\n",
    "    c1 = cp.sum(cp.multiply(V2, u))\n",
    "    cx = cp.reshape(x,(n,1)) @ cp.reshape(np.ones([1,n]),(1,n))\n",
    "    cy = cp.reshape(np.ones([1,n]),(n,1)) @ cp.reshape(y,(1,n))\n",
    "\n",
    "    constraints = [cp.vec(u) >= 0, cp.vec(u) <= 1, \n",
    "                   0 <= x, x <= 1, 0 <= y, y <= 1, \n",
    "                   c1 >= 1, u <= cx, u <= cy, cx + cy - 1  <= u\n",
    "                   ]\n",
    "    prob = cp.Problem(cp.Minimize(cp.sum(u)),constraints)\n",
    "    sol = prob.solve()\n",
    "    #print(\"x = \", x.value)\n",
    "    #print(\"y = \", y.value)\n",
    "    #print(\"u = \", u.value)\n",
    "    #print(\"sol = \", np.ceil(sol))\n",
    "    return int(np.ceil(sol)), x.value, y.value"
   ]
  },
  {
   "cell_type": "code",
   "execution_count": null,
   "id": "bea49a1d",
   "metadata": {},
   "outputs": [],
   "source": [
    "#sdp lower\n",
    "def sdp_approx(VV, n):\n",
    "    x = cp.Variable(2*n)\n",
    "    u = cp.Variable((2*n,2*n))\n",
    "    \n",
    "    Z = np.zeros((n,n))\n",
    "    O = np.ones((n,n))\n",
    "    Vsym = np.concatenate((np.concatenate((Z,0.5*VV), axis =1), np.concatenate((0.5*VV.T, Z), axis =1)))\n",
    "    Idsym = np.concatenate((np.concatenate((Z,0.5*O), axis =1), np.concatenate((0.5*O, Z), axis =1)))\n",
    "\n",
    "    c1 = cp.sum(cp.multiply(Vsym, u))\n",
    "    cx = cp.reshape(x,(2*n,1)) @ cp.reshape(np.ones([1,2*n]),(1,2*n))\n",
    "    cy = cp.reshape(np.ones([1,2*n]),(2*n,1)) @ cp.reshape(x,(1,2*n))\n",
    "    ctrace = cp.trace(u - cp.diag(x))\n",
    "    \n",
    "    A11= cp.reshape(1, (1, 1))\n",
    "    A12= cp.reshape(x, (1, 2*n))\n",
    "    A1 = cp.hstack([A11, A12])\n",
    "\n",
    "    A21= cp.reshape(x, (2*n,1))\n",
    "    A22= u\n",
    "    A2 = cp.hstack([A21, A22])\n",
    "    M = cp.vstack([A1, A2])\n",
    "    \n",
    "\n",
    "    constraints = [cp.vec(u) >= 0, cp.vec(u) <= 1, 0 <= x, x <= 1, c1 >= 1, u <= cx, u <= cy, cx + cy - 1  <= u, ctrace == 0, M >> 0]\n",
    "    prob = cp.Problem(cp.Minimize(cp.sum(cp.multiply(Idsym, u))), constraints)\n",
    "    return int(np.ceil(prob.solve()))"
   ]
  },
  {
   "cell_type": "code",
   "execution_count": null,
   "id": "4f05fcbd",
   "metadata": {},
   "outputs": [],
   "source": [
    "#k-width upper\n",
    "def upper_bound_2(VV, n):\n",
    "    res = n\n",
    "    for i in range(n):\n",
    "        for j in range(i+1,n):\n",
    "            ind_subset = np.array([i,j])\n",
    "            VV_tr = VV[ind_subset, :]\n",
    "            sums = np.sum(VV_tr, axis = 0)\n",
    "            argsorted_sums = np.argsort(sums)\n",
    "            cumsum = 0\n",
    "            count = 0\n",
    "            while cumsum < 1:\n",
    "                count += 1\n",
    "                cumsum += sums[argsorted_sums[-count]]\n",
    "            if count*2 < res:\n",
    "                res = count*2\n",
    "\n",
    "            VV_tr = VV[:,ind_subset]\n",
    "            sums = np.sum(VV_tr, axis = 1)\n",
    "            argsorted_sums = np.argsort(sums)\n",
    "            cumsum = 0\n",
    "            count = 0\n",
    "            while cumsum < 1:\n",
    "                count += 1\n",
    "                cumsum += sums[argsorted_sums[-count]]\n",
    "\n",
    "            if count*2 < res:\n",
    "                res = count*2\n",
    "    \n",
    "    return res"
   ]
  },
  {
   "cell_type": "code",
   "execution_count": null,
   "id": "7fe2a41d-16fd-4297-9fe4-d80cbac10795",
   "metadata": {},
   "outputs": [],
   "source": [
    "#kwidth upper for k = 3\n",
    "def upper_bound_3(VV, n):\n",
    "    res = n\n",
    "    for i in range(n):\n",
    "        print('working...', i)\n",
    "        for j in range(i+1,n):\n",
    "            for t in range(j+1, n):\n",
    "                ind_subset = [i,j,t]\n",
    "                VV_tr = VV[ind_subset, :]\n",
    "                sums = np.sum(VV_tr, axis = 0)\n",
    "                argsorted_sums = np.argsort(sums)\n",
    "                cumsum = 0\n",
    "                count = 0\n",
    "                while cumsum < 1:\n",
    "                    count += 1\n",
    "                    cumsum += sums[argsorted_sums[-count]]\n",
    "                if count*3 < res:\n",
    "                    res = count*3\n",
    "\n",
    "                \n",
    "                VV_tr = VV[:,ind_subset]\n",
    "                sums = np.sum(VV_tr, axis = 1)\n",
    "                argsorted_sums = np.argsort(sums)\n",
    "                cumsum = 0\n",
    "                count = 0\n",
    "                while cumsum < 1:\n",
    "                    count += 1\n",
    "                    cumsum += sums[argsorted_sums[-count]]\n",
    "                if count*3 < res:\n",
    "                    res = count*3\n",
    "    return np.min(res)"
   ]
  },
  {
   "cell_type": "markdown",
   "id": "21e34e2b",
   "metadata": {
    "jp-MarkdownHeadingCollapsed": true
   },
   "source": [
    "## Custom Methods"
   ]
  },
  {
   "cell_type": "markdown",
   "id": "07391d28-b62c-4a24-9389-b9bfa5774eb6",
   "metadata": {},
   "source": [
    "### Linear Modification"
   ]
  },
  {
   "cell_type": "code",
   "execution_count": null,
   "id": "f509c38e",
   "metadata": {},
   "outputs": [],
   "source": [
    "#custom linear\n",
    "def linear_mod_round(V2, n, rx, ry):\n",
    "    x = cp.Variable(n)\n",
    "    y = cp.Variable(n)\n",
    "    u = cp.Variable((n,n))\n",
    "\n",
    "    c1 = cp.sum(cp.multiply(V2, u))\n",
    "    cx = cp.reshape(x,(n,1)) @ cp.reshape(np.ones([1,n]),(1,n))\n",
    "    cy = cp.reshape(np.ones([1,n]),(n,1)) @ cp.reshape(y,(1,n))\n",
    "\n",
    "    constraints = [cp.vec(u) >= 0, cp.vec(u) <= 1, \n",
    "                   0 <= x, x <= 1, 0 <= y, y <= 1, \n",
    "                   x >= rx, x <= rx + 1, y >= ry, y <= ry + 1,\n",
    "                   c1 >= 1, u <= cx, u <= cy, cx + cy - 1  <= u\n",
    "                   ]\n",
    "    prob = cp.Problem(cp.Minimize(cp.sum(u)),constraints)\n",
    "    sol = prob.solve()\n",
    "    #print(\"x = \", x.value)\n",
    "    #print(\"y = \", y.value)\n",
    "    #print(\"u = \", u.value)\n",
    "    return int(np.ceil(sol)),x.value, y.value"
   ]
  },
  {
   "cell_type": "code",
   "execution_count": null,
   "id": "e68e35c4-8e87-40c8-8193-b27716ef4d02",
   "metadata": {},
   "outputs": [],
   "source": [
    "def linear_mod(V2, n):\n",
    "    rx = np.zeros(n)\n",
    "    ry = np.zeros(n)\n",
    "    \n",
    "    res = n\n",
    "    res_y = []\n",
    "    res_x = []\n",
    "    for i in range(n):\n",
    "        print(\"Round: \", i)\n",
    "        rx[i] = 1\n",
    "        sol, x, y = linear_mod_round(V2,n, rx, ry)\n",
    "        if sol < res:\n",
    "            res_y = y\n",
    "            res_x = x\n",
    "            res = sol\n",
    "        rx[i] = -1\n",
    "    return res, res_x, res_y"
   ]
  },
  {
   "cell_type": "markdown",
   "id": "08b3280a-3cd0-4ede-9e2e-4eecf3883d24",
   "metadata": {},
   "source": [
    "### No-gaps/Greedy Modification"
   ]
  },
  {
   "cell_type": "code",
   "execution_count": null,
   "id": "97482e44",
   "metadata": {},
   "outputs": [],
   "source": [
    "#Utility functions for no_gaps_mod\n",
    "def sortsum(c):\n",
    "    a = np.sort(c)[::-1]\n",
    "    return np.cumsum(a) - a\n",
    "\n",
    "def sortsummatrix(VV):\n",
    "    n = VV.shape[0]\n",
    "    A = np.zeros(VV.shape);\n",
    "    for i in range(n):\n",
    "        A[i,:] = sortsum(VV[i,:])\n",
    "    return A"
   ]
  },
  {
   "cell_type": "code",
   "execution_count": null,
   "id": "972918a1-7b90-4223-9b82-8571d93a9ac0",
   "metadata": {},
   "outputs": [],
   "source": [
    "sortsummatrix(np.array([[1,2],[3,4]]))"
   ]
  },
  {
   "cell_type": "code",
   "execution_count": null,
   "id": "99af8dc0-1302-4225-9719-51d18b006c40",
   "metadata": {},
   "outputs": [],
   "source": [
    "def no_gaps_round(VV,n,P,S):\n",
    "    VV_tr = VV[:,S]\n",
    "    sums = np.sum(VV_tr, axis = 1)\n",
    "\n",
    "    S_size = len(S)\n",
    "    res = n\n",
    "    K  = []\n",
    "    \n",
    "    for i in range (S_size,n):\n",
    "        if i*S_size > res:\n",
    "            break # We restrict ourselves to the case where there are at least s rows and columns\n",
    "           \n",
    "        #Add the restricted sum, to the best remaining i - 2 elements in the row\n",
    "        T = sums + P[:, i - 2]\n",
    "        Targs = np.argsort(T)\n",
    "        T = np.sort(T)[::-1]\n",
    "        \n",
    "        #keep selecting the best rows until we exceed 1\n",
    "        cumsum = 0\n",
    "        count = 0\n",
    "        while cumsum < 1:\n",
    "            cumsum += T[count]\n",
    "            count += 1\n",
    "                \n",
    "        if i*count < res:\n",
    "            res = i*count\n",
    "            K = Targs[:count]\n",
    "    return res, K"
   ]
  },
  {
   "cell_type": "code",
   "execution_count": null,
   "id": "9c330c2e",
   "metadata": {},
   "outputs": [],
   "source": [
    "#custom greedy\n",
    "def no_gaps_mod(VV, n):\n",
    "    P = sortsummatrix(VV)\n",
    "    res = n\n",
    "    K = []\n",
    "    for ki in range(n-1):\n",
    "        for kj in range(ki+1,n):\n",
    "            #sum up each row restricted to ki, kj\n",
    "            ind_subset = [ki,kj]\n",
    "            round_sol, round_K = no_gaps_round(VV, n, P, ind_subset)\n",
    "            if round_sol < res:\n",
    "                res = round_sol\n",
    "                K = round_K\n",
    "    return res, K"
   ]
  },
  {
   "cell_type": "code",
   "execution_count": null,
   "id": "94cde2ef",
   "metadata": {},
   "outputs": [],
   "source": [
    "# Upper bound from no_gaps_mod\n",
    "def FindRestrictedOptimum(VV,n,K):\n",
    "    VV_tr = VV[K, :]\n",
    "    sums = np.sum(VV_tr, axis = 0)\n",
    "    argsorted_sums = np.argsort(sums)\n",
    "    cumsum = 0\n",
    "    count = 0\n",
    "    while cumsum < 1:\n",
    "        count += 1\n",
    "        cumsum += sums[argsorted_sums[-count]]\n",
    "    return count * K.size"
   ]
  },
  {
   "cell_type": "markdown",
   "id": "3173df27",
   "metadata": {
    "jp-MarkdownHeadingCollapsed": true
   },
   "source": [
    "# Experiments"
   ]
  },
  {
   "cell_type": "markdown",
   "id": "0af702c6",
   "metadata": {
    "jp-MarkdownHeadingCollapsed": true
   },
   "source": [
    "## Linear Method Experiments"
   ]
  },
  {
   "cell_type": "code",
   "execution_count": null,
   "id": "a94c8523",
   "metadata": {},
   "outputs": [],
   "source": [
    "# Demonstrate the distribution of x for case n = 350\n",
    "VV = pMatrices[14]\n",
    "n = matrixSizes[14]\n",
    "\n",
    "sol, x, y = linear_approx(VV, n)\n",
    "print(\"normal linear:\\nvalue:\", sol, \"\\ny:\", y)\n",
    "sol_mod, x_mod, y_mod = linear_mod(VV, n)\n",
    "print(\"modified linear:\\nvalue:\", sol_mod, \"\\ny:\", y_mod)"
   ]
  },
  {
   "cell_type": "code",
   "execution_count": null,
   "id": "25e91ad2-1556-4bf8-84f2-0406576343f0",
   "metadata": {},
   "outputs": [],
   "source": [
    "sol = 12\n",
    "y = [0.32328862 0.32328961 0.32329102 0.3232934  0.32328905 0.32329259\n",
    " 0.32329289 0.32329259 0.32329335 0.32329218 0.5        0.32329179\n",
    " 0.5        0.323293   0.35819229 0.32328955 0.32329026 0.32329341\n",
    " 0.32329216 0.32329367 0.32329263 0.5        0.32329311 0.3232907\n",
    " 0.32329206 0.32328846 0.32451336 0.32329348 0.32328933 0.32329307\n",
    " 0.32329353 0.32329089 0.32329665 0.32329217 0.3232938  0.32329201\n",
    " 0.32329139 0.32329009 0.32329431 0.5        0.32329055 0.32329971\n",
    " 0.3232907  0.32329272 0.3232936  0.32328923 0.32329117 0.32329338\n",
    " 0.32329297 0.32329426 0.32328599 0.32329289 0.32329392 0.32329406\n",
    " 0.32329209 0.32333534 0.32328845 0.32329136 0.32328772 0.32329338\n",
    " 0.32329492 0.32329309 0.32329036 0.32328806 0.5        0.32329372\n",
    " 0.323293   0.32333031 0.32328071 0.32328958 0.32329333 0.32329241\n",
    " 0.32329377 0.32329237 0.32329298 0.32329412 0.32329463 0.32329324\n",
    " 0.32329153 0.32329359 0.32328634 0.32329269 0.32329246 0.32329264\n",
    " 0.32328916 0.32329226 0.32329304 0.32328867 0.5        0.32329325\n",
    " 0.32329437 0.32329429 0.32329267 0.32329211 0.32328931 0.32329343\n",
    " 0.32329437 0.5        0.32329376 0.32328857 0.32330054 0.32328948\n",
    " 0.32328996 0.32329322 0.32329226 0.32329198 0.32328944 0.5\n",
    " 0.3232924  0.32329376 0.32329287 0.32329352 0.5        0.32329133\n",
    " 0.5        0.322168   0.3232938  0.32328354 0.32328811 0.5\n",
    " 0.32329414 0.32329371 0.32329204 0.32328822 0.32328893 0.3232929\n",
    " 0.32328948 0.32328911 0.5        0.32329237 0.5        0.32328949\n",
    " 0.32329316 0.32329215 0.32329369 0.32329304 0.3232915  0.32329401\n",
    " 0.32329482 0.32329293 0.32329144 0.32329033 0.32328684 0.32329342\n",
    " 0.3232919  0.32329163 0.32328768 0.32328954 0.32329236 0.32329272\n",
    " 0.5        0.32329001 0.32328925 0.5        0.32328228 0.32329085\n",
    " 0.5        0.5        0.32326604 0.32328941 0.5        0.3232915\n",
    " 0.32329262 0.5        0.32329355 0.32329434 0.32328765 0.32329502\n",
    " 0.32328759 0.32332537 0.32329309 0.5        0.32328771 0.32329288\n",
    " 0.32329357]\n",
    "sol_mod = 17\n",
    "y_mod = [5.00000000e-01 4.70052410e-13 5.92132907e-13 4.69006454e-13\n",
    " 4.72563000e-13 5.04000494e-12 4.97697090e-13 5.77843734e-13\n",
    " 4.68881742e-13 4.81080786e-13 5.31151702e-13 4.70424477e-13\n",
    " 5.36549934e-13 4.70992031e-13 4.72954308e-13 4.70540595e-13\n",
    " 6.13058004e-13 4.69232074e-13 4.69696326e-13 4.69983583e-13\n",
    " 4.68989431e-13 4.75303431e-13 4.68734504e-13 1.03483367e-12\n",
    " 4.73441213e-13 4.71286711e-13 4.85301004e-13 6.34355093e-13\n",
    " 4.90706813e-13 4.75141129e-13 4.76574063e-13 4.69900155e-13\n",
    " 5.21762074e-13 6.69645169e-13 4.73083701e-13 5.32867460e-13\n",
    " 4.69651147e-13 4.80076175e-13 4.77040354e-13 4.69024293e-13\n",
    " 4.71800312e-13 4.69707580e-13 4.72232808e-13 4.75622419e-13\n",
    " 4.69141648e-13 5.30489571e-13 4.79737240e-13 4.73591776e-13\n",
    " 7.45909252e-13 1.04013810e-12 4.92171547e-13 4.68900119e-13\n",
    " 5.00083374e-13 5.73012598e-13 6.24540171e-13 4.82399129e-13\n",
    " 4.87706917e-13 4.83711722e-13 1.23352588e-12 5.16775688e-13\n",
    " 1.32879621e-01 7.72579705e-13 5.14604508e-13 5.59326369e-13\n",
    " 4.78818292e-13 5.00000000e-01 4.68824670e-13 4.70079554e-13\n",
    " 4.79478276e-13 4.84984127e-13 5.34367811e-13 4.78197918e-13\n",
    " 5.49883429e-13 4.77718795e-13 5.47860032e-13 6.54320208e-13\n",
    " 5.25623905e-13 5.00000000e-01 1.26110699e-12 5.89938197e-13\n",
    " 5.00000000e-01 1.31095836e-12 2.11882985e-12 5.00000000e-01\n",
    " 5.99608768e-13 5.00000000e-01 4.70524911e-13 5.00000000e-01\n",
    " 4.73711014e-13 5.00000000e-01 5.00000000e-01 1.99312974e-12\n",
    " 1.11452615e-12 1.08469952e-12 5.00000000e-01 5.00000000e-01\n",
    " 6.09923742e-13 4.69171470e-13 5.44031163e-13 3.36956847e-10\n",
    " 4.82920945e-13 5.44893522e-13 9.74307673e-13 7.56113673e-13\n",
    " 5.72178248e-13 4.73584767e-13 9.07096573e-13 4.70714636e-13\n",
    " 5.34529790e-13 6.12507549e-13 4.87724064e-13 5.84623922e-13\n",
    " 5.22438647e-13 5.09986827e-13 4.80362196e-13 5.20964047e-13\n",
    " 5.05720110e-13 4.69899611e-13 5.12187960e-13 4.82645428e-13\n",
    " 4.84764525e-13 5.42557566e-13 4.70634554e-13 4.72264646e-13\n",
    " 5.44317741e-13 5.70459370e-13 4.77392570e-13 5.35503155e-13\n",
    " 5.25454337e-13 4.81497036e-13 4.76005428e-13 4.71024486e-13\n",
    " 6.86742723e-13 4.69172523e-13 4.71024322e-13 5.18970591e-13\n",
    " 5.00000000e-01 4.72512797e-13 4.69450389e-13 4.73770513e-13\n",
    " 5.87352655e-13 6.26502899e-13 4.73411644e-13 4.76118745e-13\n",
    " 4.71033459e-13 6.58287971e-13 4.84020443e-13 4.77543376e-13\n",
    " 4.69455612e-13 4.68920837e-13 4.68986199e-13 4.72512992e-13\n",
    " 5.71132630e-13 4.69251931e-13 4.72591413e-13 4.71353109e-13\n",
    " 5.42110338e-13 4.75541716e-13 4.70068122e-13 4.74779901e-13\n",
    " 5.20535355e-13 4.70472016e-13 4.69177471e-13 6.91364009e-13\n",
    " 6.69716998e-13 5.91625377e-13 7.44381508e-13 7.60025517e-13\n",
    " 4.77308029e-13 5.95361040e-13 8.44951995e-13 4.87830288e-13\n",
    " 5.00000000e-01 4.76565122e-13 4.69067885e-13]"
   ]
  },
  {
   "cell_type": "code",
   "execution_count": null,
   "id": "9a9cd17f",
   "metadata": {},
   "outputs": [],
   "source": [
    "# Show improved distribution of x for our new method\n",
    "fig, axs = plt.subplots(2, 1)\n",
    "fig.tight_layout(pad=2.0)\n",
    "axs[0].plot(y, marker='.', color='blue', ls='')\n",
    "axs[0].set_title('linear')\n",
    "\n",
    "axs[1].plot(y_mod, marker='.', color='orange', ls='')\n",
    "axs[1].set_title('modified linear')\n",
    "\n",
    "y_chosen = 0\n",
    "for yi in y:\n",
    "    if yi>.4:\n",
    "        y_chosen += 1\n",
    "        \n",
    "y_mod_chosen = 0\n",
    "for yi in y_mod:\n",
    "    if yi > .1:\n",
    "        y_mod_chosen += 1\n",
    "\n",
    "print(\"Linear Chosen Columns:\", y_chosen)\n",
    "print(\"Modified Linear Columns:\", y_mod_chosen)"
   ]
  },
  {
   "cell_type": "code",
   "execution_count": null,
   "id": "543196a5",
   "metadata": {},
   "outputs": [],
   "source": [
    "# Improved lower bound"
   ]
  },
  {
   "cell_type": "markdown",
   "id": "660c52a7",
   "metadata": {},
   "source": [
    "## Comparing Matrix Types"
   ]
  },
  {
   "cell_type": "code",
   "execution_count": null,
   "id": "6a291190",
   "metadata": {},
   "outputs": [],
   "source": [
    "# Compare the distribution of degrees for n = 350\n",
    "index = 14\n",
    "\n",
    "pDegrees = np.sum(pAdjMatrices[index], axis = 0)\n",
    "dDegrees = np.sum(dRegularAdjMatrices[index], axis = 0)\n",
    "BADegrees = np.sum(BAAdjMatrices[index], axis = 0)\n",
    "WSDegrees = np.sum(WSAdjMatrices[index], axis = 0)\n",
    "\n",
    "pLeg = plt.plot(np.sort(pDegrees), '.', label='pMatrices')\n",
    "dReg = plt.plot(np.sort(dDegrees), '.', label='dRegMat')\n",
    "BALeg = plt.plot(np.sort(BADegrees), '.', label='BA')\n",
    "WSLeg = plt.plot(np.sort(WSDegrees), '.', label='WS')\n",
    "plt.legend([\"p\",\"dReg\",\"BA\",\"WS\"])"
   ]
  },
  {
   "cell_type": "code",
   "execution_count": null,
   "id": "aa04469e",
   "metadata": {},
   "outputs": [],
   "source": [
    "# Compare the distribution of coordinates in \\Phi\n",
    "\n",
    "index = 14\n",
    "n = matrixSizes[index]\n",
    "\n",
    "pEig =  pMatrices[index].reshape(n*n)\n",
    "dEig =  dRegularMatrices[index].reshape(n*n)\n",
    "BAEig = BAMatrices[index].reshape(n*n)\n",
    "WSEig = WSMatrices[index].reshape(n*n)\n",
    "\n",
    "fig, axs = plt.subplots(2, 2)\n",
    "fig.tight_layout(pad=2.0)\n",
    "axs[0, 0].plot(np.sort(pEig)[::-1], marker='.', color='blue', ls='')\n",
    "axs[0, 0].set_title('p')\n",
    "\n",
    "axs[0, 1].plot(np.sort(dEig)[::-1], marker='.', color='orange', ls='')\n",
    "axs[0, 1].set_title('dReg')\n",
    "\n",
    "axs[1, 0].plot(np.sort(BAEig)[::-1], marker='.', color='green', ls='')\n",
    "axs[1, 0].set_title('BA')\n",
    "\n",
    "axs[1, 1].plot(np.sort(WSEig)[::-1], marker='.', color='red', ls='')\n",
    "axs[1, 1].set_title('WS')"
   ]
  },
  {
   "cell_type": "code",
   "execution_count": null,
   "id": "7a4e9a20-6113-4067-8482-3109594918bd",
   "metadata": {},
   "outputs": [],
   "source": [
    "index = 6\n",
    "n = matrixSizes[index]\n",
    "\n",
    "pEig =  pMatrices[index].reshape(n*n)\n",
    "dEig =  dRegularMatrices[index].reshape(n*n)\n",
    "BAEig = BAMatrices[index].reshape(n*n)\n",
    "WSEig = WSMatrices[index].reshape(n*n)\n",
    "\n",
    "plt.plot(np.sort(pEig)[::-1], marker='.', color='blue', ls='')\n",
    "plt.plot(np.sort(dEig)[::-1], marker='.', color='orange', ls='')\n",
    "plt.plot(np.sort(BAEig)[::-1], marker='.', color='green', ls='')\n",
    "plt.plot(np.sort(WSEig)[::-1], marker='.', color='red', ls='')\n",
    "plt.legend([\"p\",\"dReg\", \"BA\", \"WS\"])"
   ]
  },
  {
   "cell_type": "markdown",
   "id": "e4fb46df",
   "metadata": {},
   "source": [
    "# Results"
   ]
  },
  {
   "cell_type": "code",
   "execution_count": null,
   "id": "9fddec15-63ec-470e-88f8-b075ba260a81",
   "metadata": {},
   "outputs": [],
   "source": [
    "#Choose the type of matrices here\n",
    "\n",
    "#VV = pMatrices\n",
    "#VV = dRegularMatrices\n",
    "VV = BAMatrices\n",
    "#VV = WSMatrices"
   ]
  },
  {
   "cell_type": "code",
   "execution_count": null,
   "id": "2bef2fb4",
   "metadata": {},
   "outputs": [],
   "source": [
    "#Run simple bounds on every matrix type\n",
    "#Time: +- 2 minutes\n",
    "m = matrixSizes.size\n",
    "\n",
    "greedy = []\n",
    "sup = []\n",
    "kwidth = []\n",
    "linear = []\n",
    "\n",
    "for i in range(m):\n",
    "    n = matrixSizes[i]\n",
    "    print(\"size:\", n)\n",
    "    kwidth.append(upper_bound_2(VV[i],n))\n",
    "    greedy.append(lower_approx(VV[i],n))\n",
    "    sup.append(sup_lower_approx(VV[i],n))\n",
    "    sol, x, y = linear_approx(VV[i],n)\n",
    "    linear.append(sol)\n",
    "\n",
    "print(\"greedy = \", greedy)\n",
    "print(\"sup = \", sup)\n",
    "print(\"kwidth = \", kwidth)\n",
    "print(\"linear = \", linear)"
   ]
  },
  {
   "cell_type": "code",
   "execution_count": null,
   "id": "65111125-5872-4269-8a9c-62cebed914c0",
   "metadata": {},
   "outputs": [],
   "source": [
    "#Modified greedy\n",
    "#time: 4 minutes\n",
    "m = matrixSizes.size\n",
    "no_gaps = []\n",
    "upper_mod = []\n",
    "\n",
    "for i in range(m):\n",
    "    n = matrixSizes[i]\n",
    "    print(\"size:\", n)\n",
    "    sol, K = no_gaps_mod(VV[i],n)\n",
    "    no_gaps.append(sol)\n",
    "    print(\"sol = \", sol)\n",
    "    print(\"K = \",K)\n",
    "    upper_mod.append(FindRestrictedOptimum(VV[i],n,K))\n",
    "\n",
    "print(\"no_gaps = \", no_gaps)\n",
    "print(\"upper_mod = \", upper_mod)"
   ]
  },
  {
   "cell_type": "code",
   "execution_count": null,
   "id": "816177e6-a9e2-46fd-8608-a495ad6c1066",
   "metadata": {
    "scrolled": true
   },
   "outputs": [],
   "source": [
    "#Modified Linear\n",
    "#Time: Expected +- 4 hours\n",
    "m = matrixSizes.size\n",
    "mod_linear = []\n",
    "for i in range(13, m):\n",
    "    n = matrixSizes[i]\n",
    "    print(\"size:\", n)\n",
    "    sol, x, y = linear_mod(VV[i],n)\n",
    "    mod_linear.append(sol)\n",
    "    print(\"mod_linear = \", mod_linear)"
   ]
  },
  {
   "cell_type": "code",
   "execution_count": null,
   "id": "132579fa-8fc2-4347-a199-81ad81c99cd7",
   "metadata": {},
   "outputs": [],
   "source": [
    "#SDP\n",
    "#note that we limit the amount of matrices we consider\n",
    "#Time: 1.5 hours\n",
    "\n",
    "m = matrixSizes.size\n",
    "\n",
    "sdp_lower = []\n",
    "\n",
    "for i in range(6):\n",
    "    n = matrixSizes[i]\n",
    "    print(\"size:\", n)\n",
    "    sdp_lower.append(sdp_approx(VV[i],n))\n",
    "    print(\"sdp_lower = \", sdp_lower)"
   ]
  },
  {
   "cell_type": "code",
   "execution_count": 2,
   "id": "031f9f87-874f-4a8b-947a-814ce322012d",
   "metadata": {},
   "outputs": [],
   "source": [
    "#Results:\n",
    "\n",
    "#Paste your results here in different lists\n",
    "#Comment which type of graph you consider: BA\n",
    "greedy_res = [\n",
    "    [4, 4, 8, 9, 10, 9, 11, 12, 11, 14, 13, 14, 14, 14, 16],\n",
    "    [4, 6, 5, 7, 9, 9, 11, 13, 11, 11, 14, 14, 15, 15, 16],\n",
    "    [4, 4, 8, 8, 9, 11, 11, 13, 13, 12, 14, 13, 14, 13, 14],\n",
    "    [3, 5, 6, 6, 10, 10, 10, 12, 12, 12, 12, 16, 14, 13, 14],\n",
    "    [5, 4, 8, 9, 9, 9, 11, 12, 10, 12, 12, 15, 14, 14, 15]\n",
    "]\n",
    "\n",
    "sup_res = [\n",
    "    [3, 2, 6, 8, 8, 5, 7, 10, 8, 12, 9, 11, 6, 12, 13],\n",
    "    [3, 6, 3, 5, 8, 8, 9, 11, 7, 7, 8, 11, 14, 10, 12],\n",
    "    [3, 3, 7, 7, 8, 7, 10, 11, 10, 9, 11, 8, 9, 11, 11],\n",
    "    [3, 4, 4, 5, 8, 8, 8, 8, 9, 7, 8, 10, 9, 10, 9],\n",
    "    [5, 3, 6, 8, 6, 8, 9, 7, 7, 7, 10, 10, 11, 12, 12]\n",
    "]\n",
    "\n",
    "linear_res = [\n",
    "    [4, 5, 9, 9, 11, 10, 13, 13, 13, 15, 15, 16, 16, 17, 18],\n",
    "    [4, 6, 6, 8, 10, 10, 12, 14, 12, 13, 16, 16, 17, 18, 18],\n",
    "    [5, 5, 8, 9, 10, 12, 13, 14, 14, 14, 16, 15, 16, 16, 17],\n",
    "    [4, 5, 7, 8, 11, 11, 11, 13, 14, 14, 14, 18, 16, 16, 17],\n",
    "    [5, 5, 9, 10, 11, 11, 12, 14, 12, 14, 14, 16, 16, 16, 18]\n",
    "]\n",
    "\n",
    "kwidth_res = [\n",
    "    [8, 8, 18, 24, 32, 22, 34, 40, 38, 46, 44, 50, 50, 46, 50],\n",
    "    [6, 12, 10, 24, 24, 30, 38, 40, 34, 44, 46, 52, 50, 58, 60],\n",
    "    [6, 8, 20, 24, 30, 34, 38, 40, 40, 42, 44, 48, 46, 56, 58],\n",
    "    [6, 12, 18, 22, 30, 34, 30, 44, 40, 44, 44, 50, 56, 52, 54],\n",
    "    [8, 8, 18, 26, 28, 32, 36, 42, 40, 42, 52, 44, 56, 48, 54]\n",
    "]\n",
    "\n",
    "greedy_mod_res = [\n",
    "    [6, 3, 10, 12, 12, 14, 18, 15, 15, 18, 20, 20, 20, 18, 24],\n",
    "    [6, 8, 6, 10, 12, 15, 16, 18, 16, 18, 24, 20, 16, 20, 24],\n",
    "    [6, 8, 10, 12, 12, 16, 15, 18, 20, 15, 18, 18, 20, 20, 24],\n",
    "    [6, 8, 8, 9, 15, 15, 18, 18, 16, 18, 20, 20, 24, 18, 20],\n",
    "    [6, 6, 10, 12, 14, 15, 16, 18, 18, 20, 24, 18, 20, 20, 20]\n",
    "]\n",
    "# upper_mod_res = [\n",
    "#     [14, 50, 36, 48, 63, 72, 81, 87, 99, 99, 120, 124, 145, 162, 168],\n",
    "#     [14, 24, 34, 46, 64, 80, 76, 90, 100, 99, 132, 140, 144, 156, 180],\n",
    "#     [14, 22, 34, 42, 60, 72, 81, 81, 105, 105, 132, 132, 150, 160, 162],\n",
    "#     [16, 26, 34, 48, 54, 70, 72, 93, 104, 99, 124, 145, 150, 150, 165],\n",
    "#     [12, 24, 40, 48, 54, 65, 84, 90, 108, 100, 144, 126, 155, 170, 160]\n",
    "# ]\n",
    "\n",
    "linear_mod_res =  [7, 9, 11, 13, 15, 18, 17, 19, 18, 18, 23, 22, 23]\n",
    "#last value, 24, solution may be inaccurate\n",
    "\n",
    "sdp_res = [6, 9, 9, 11, 13, 16]\n"
   ]
  },
  {
   "cell_type": "code",
   "execution_count": 4,
   "id": "5d49356c-7253-49ac-93cf-03b53622ffc7",
   "metadata": {},
   "outputs": [
    {
     "data": {
      "image/png": "[encoded data removed]",
      "text/plain": [
       "<Figure size 640x480 with 1 Axes>"
      ]
     },
     "metadata": {},
     "output_type": "display_data"
    }
   ],
   "source": [
    "ran = range(25,400,25) #matrixSizes\n",
    "plt.title(r'Scale-free graphs, $d_{avg} = 2\\sqrt{n}$')\n",
    "plt.plot(ran, np.mean(greedy_res, axis = 0),       'y*--', label = 'greedy')\n",
    "plt.plot(ran, np.mean(sup_res, axis = 0),          'r*-',  label = 'supremum')\n",
    "plt.plot(ran, np.mean(kwidth_res, axis = 0),       'k*-',  label = 'k-width')\n",
    "plt.plot(ran, np.mean(linear_res, axis = 0),       'g*-',  label = 'linear')\n",
    "plt.plot(ran[:6], sdp_res,               'm*:',  label = 'sdp')\n",
    "\n",
    "plt.plot(ran[:13], linear_mod_res,            'b*--',  label = 'modified linear')\n",
    "plt.plot(ran, np.mean(greedy_mod_res, axis = 0),      'c*-.',  label = 'modified greedy')\n",
    "\n",
    "plt.fill_between(ran, np.min(greedy_res, axis =0), np.max(greedy_res, axis =0), color='y', alpha=0.1)\n",
    "plt.fill_between(ran, np.min(sup_res,    axis =0), np.max(sup_res,    axis =0), color='r', alpha=0.1)\n",
    "plt.fill_between(ran, np.min(kwidth_res, axis =0), np.max(kwidth_res, axis =0), color='k', alpha=0.1)\n",
    "plt.fill_between(ran, np.min(linear_res, axis =0), np.max(linear_res, axis =0), color='g', alpha=0.1)\n",
    "plt.fill_between(ran, np.min(greedy_mod_res, axis =0), np.max(greedy_mod_res, axis =0), color='c', alpha=0.1)\n",
    "\n",
    "plt.xlabel(\"number of vertices (graph size)\")\n",
    "plt.ylabel(\"uncertainty bound\")\n",
    "plt.legend()\n",
    "plt.savefig(\"baDsqrt.png\")"
   ]
  }
 ],
 "metadata": {
  "kernelspec": {
   "display_name": "Python 3 (ipykernel)",
   "language": "python",
   "name": "python3"
  },
  "language_info": {
   "codemirror_mode": {
    "name": "ipython",
    "version": 3
   },
   "file_extension": ".py",
   "mimetype": "text/x-python",
   "name": "python",
   "nbconvert_exporter": "python",
   "pygments_lexer": "ipython3",
   "version": "3.10.6"
  }
 },
 "nbformat": 4,
 "nbformat_minor": 5
}
