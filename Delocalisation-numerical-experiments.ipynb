{
 "cells": [
  {
   "cell_type": "code",
   "execution_count": null,
   "id": "084aaa4b-99b7-4ee2-b589-f77a2fdd8849",
   "metadata": {},
   "outputs": [],
   "source": [
    "import networkx as nx\n",
    "import numpy as np\n",
    "#import seaborn as sb\n",
    "#import scipy\n",
    "import matplotlib.pyplot as plt\n",
    "import cvxpy as cp"
   ]
  },
  {
   "cell_type": "markdown",
   "id": "e25f46d5-3e6a-407c-911b-34c315a12150",
   "metadata": {},
   "source": [
    "# Matrix Generation"
   ]
  },
  {
   "cell_type": "markdown",
   "id": "2e1e6e64-52e8-459b-b016-d17e029441aa",
   "metadata": {},
   "source": [
    "### Utility Functions"
   ]
  },
  {
   "cell_type": "code",
   "execution_count": null,
   "id": "46cc4cd5-ebd1-45d2-84a8-5fb0ba5d6021",
   "metadata": {},
   "outputs": [],
   "source": [
    "sample = np.random.sample"
   ]
  },
  {
   "cell_type": "code",
   "execution_count": null,
   "id": "c8eb1aa6-57bc-402c-a2a9-a445241bd573",
   "metadata": {},
   "outputs": [],
   "source": [
    "#Given a list of weights, will pick a random index with likelihood corresponding to the weight\n",
    "def pickRandomIndex(weights,total):\n",
    "    t = sample() * total;\n",
    "    i = 0;\n",
    "    for w in weights:\n",
    "        t -= w\n",
    "        if t < 0:\n",
    "            return i;\n",
    "        i += 1;\n",
    "    raise ValueError('total is bigger than the sum of weights')"
   ]
  },
  {
   "cell_type": "markdown",
   "id": "db4d8f15-9b4f-4790-bcdf-3fbe3f91ef9b",
   "metadata": {},
   "source": [
    "### Generation Functions"
   ]
  },
  {
   "cell_type": "code",
   "execution_count": null,
   "id": "cbfcc360-b644-4c76-a5bd-395ab6398ee9",
   "metadata": {},
   "outputs": [],
   "source": [
    "#random matrix with edge density p\n",
    "def randomPMatrix(n,p):\n",
    "    A = np.zeros([n,n]);\n",
    "    for i in range(1,n):\n",
    "        for j in range(i):\n",
    "            if sample() < p:\n",
    "                A[i,j] = 1;\n",
    "                A[j,i] = 1;\n",
    "    return A"
   ]
  },
  {
   "cell_type": "code",
   "execution_count": null,
   "id": "b09f87be-7215-44ee-a001-7b1e41ade848",
   "metadata": {},
   "outputs": [],
   "source": [
    "#random d-regular graph\n",
    "errorbound = 10;\n",
    "\n",
    "def randomDRegular(n,d):\n",
    "    A = np.ones([1,1]) * -1\n",
    "    #num = 1\n",
    "    while np.all(A == -1):\n",
    "        A = tryRandomDRegular(n,d)\n",
    "        #print(\"n = \",n, \"\\n Attempt:\",num)\n",
    "        #num += 1\n",
    "    return A\n",
    "\n",
    "\n",
    "def tryRandomDRegular(n,d):\n",
    "    A = np.zeros([n,n]);\n",
    "    weights = d*np.ones([n]);\n",
    "    total = d*n\n",
    "    error = 0;\n",
    "    while total > 0:\n",
    "        i = pickRandomIndex(weights, total)\n",
    "        j = pickRandomIndex(weights, total)\n",
    "        if i != j and A[i,j] == 0:\n",
    "            A[i,j] = 1\n",
    "            A[j,i] = 1\n",
    "            weights[i] -= 1\n",
    "            weights[j] -= 1\n",
    "            total -= 2\n",
    "            error = 0\n",
    "        else:\n",
    "            error += 1\n",
    "        if error >= errorbound:\n",
    "            return np.ones([1,1])*-1\n",
    "    return A"
   ]
  },
  {
   "cell_type": "code",
   "execution_count": null,
   "id": "353f1199-a8b7-45c7-8ab6-45ea4ee8d72b",
   "metadata": {},
   "outputs": [],
   "source": [
    "#random Barabási–Albert small world graph\n",
    "#Note that every vertex we add will add m connections and thus increase total degree by 2m\n",
    "#Therefore for n -> \\infinity we see that the average degree will approach 2m\n",
    "\n",
    "def BASmallWorld(n,m):\n",
    "    A = np.zeros([n,n]);\n",
    "    weights = np.zeros([n]);\n",
    "    for i in range(m):\n",
    "        weights[i] = 1\n",
    "        A[i,m] = 1\n",
    "        A[m,i] = 1\n",
    "    weights[m] = m\n",
    "    total = 2*m\n",
    "    for i in range(m + 1,n):\n",
    "        d = m\n",
    "        while d > 0:\n",
    "            j = pickRandomIndex(weights,total)\n",
    "            if i != j and A[i,j] == 0:\n",
    "                A[i,j] = 1\n",
    "                A[j,i] = 1\n",
    "                weights[i] += 1\n",
    "                weights[j] += 1\n",
    "                total += 1\n",
    "                d -= 1\n",
    "        total += m\n",
    "    return A"
   ]
  },
  {
   "cell_type": "code",
   "execution_count": null,
   "id": "dcbd2ce9-e682-4e3c-973b-49159d9e9c30",
   "metadata": {},
   "outputs": [],
   "source": [
    "#random Watts–Strogatz small world graph\n",
    "#Note: input K/2 instead of K\n",
    "def WSSmallWorld(n,K, b):\n",
    "    A = np.zeros([n,n]);\n",
    "    weights = np.zeros([n]);\n",
    "    for i in range(n):\n",
    "        for k in range(K):\n",
    "            j = np.mod(i + 1 + k,n)\n",
    "            A[i,j] = 1\n",
    "            A[j,i] = 1\n",
    "    for i in range(n):\n",
    "        for k in range(K):\n",
    "            #chance = beta to rewire\n",
    "            if sample() < b:\n",
    "\n",
    "                j = np.mod(i + 1 + k, n)\n",
    "                l = j\n",
    "            \n",
    "                #find l that i is not connected to\n",
    "                while A[i,l] == 1 or i == l:\n",
    "                    l = np.random.randint(n)\n",
    "                \n",
    "                #rewire to l\n",
    "                A[i,j] = 0\n",
    "                A[j,i] = 0\n",
    "                A[i,l] = 1\n",
    "                A[l,i] = 1\n",
    "    return A"
   ]
  },
  {
   "cell_type": "markdown",
   "id": "c9e88f6f-cee4-4093-ad7c-74e2102d9b4a",
   "metadata": {},
   "source": [
    "### Matrix Preperation"
   ]
  },
  {
   "cell_type": "code",
   "execution_count": null,
   "id": "74151db0-f019-4477-9f73-9eaf032e92a4",
   "metadata": {},
   "outputs": [],
   "source": [
    "#How does the average Degree depend on n?\n",
    "def averageDegree(n):\n",
    "    return 10  #Currently keeping the degree constant as n increases in size"
   ]
  },
  {
   "cell_type": "code",
   "execution_count": null,
   "id": "d3c36c64-44ad-4d57-bb57-b25bfcc018cd",
   "metadata": {},
   "outputs": [],
   "source": [
    "#Generate matrices for different sizes\n",
    "matrixSizes = np.arange(25,200,25)\n",
    "\n",
    "pMatrices = []\n",
    "dRegularMatrices = []\n",
    "BAMatrices = []\n",
    "WSMatrices = []\n",
    "rewireChance = .3\n",
    "\n",
    "for i in range(matrixSizes.shape[0]):\n",
    "    n = matrixSizes[i]\n",
    "    k = averageDegree(n)\n",
    "    \n",
    "    pMatrices.append(randomPMatrix(n, k/n))\n",
    "    dRegularMatrices.append( randomDRegular(n,k))\n",
    "    BAMatrices.append( BASmallWorld(n, np.floor(k/2).astype(int)))\n",
    "    WSMatrices.append( WSSmallWorld(n, np.floor(k/2).astype(int), rewireChance))"
   ]
  },
  {
   "cell_type": "code",
   "execution_count": null,
   "id": "90e9d726-5ea3-450f-a832-94ecb5e2f7b5",
   "metadata": {},
   "outputs": [],
   "source": [
    "#Run individual lists/entries to view the results\n",
    "WSMatrices"
   ]
  },
  {
   "cell_type": "markdown",
   "id": "c0c8a7e0-7496-43e6-8f03-ce2a56d8d7bf",
   "metadata": {},
   "source": [
    "# Methods"
   ]
  },
  {
   "cell_type": "markdown",
   "id": "151d068b-74de-4134-a22b-f30a9fc45f01",
   "metadata": {},
   "source": [
    "## Standard Methods"
   ]
  },
  {
   "cell_type": "code",
   "execution_count": null,
   "id": "402485ba-4f96-4b44-9526-4e3f7ca6b14d",
   "metadata": {},
   "outputs": [],
   "source": [
    "#supremum lower\n",
    "def sup_lower_approx(VV, n):\n",
    "    return int(np.ceil(1/np.max(VV)))"
   ]
  },
  {
   "cell_type": "code",
   "execution_count": null,
   "id": "8bcf9465-7dfe-4691-83a0-e19d4183e6b1",
   "metadata": {},
   "outputs": [],
   "source": [
    "#greedy lower\n",
    "def lower_approx(VV, n):\n",
    "    vflat = VV.reshape(n*n)\n",
    "    res = 0\n",
    "    count = 0\n",
    "    sorted = np.argsort(vflat)\n",
    "    while res < 1:\n",
    "        count += 1\n",
    "        res += vflat[sorted[-count]]\n",
    "    return count"
   ]
  },
  {
   "cell_type": "code",
   "execution_count": null,
   "id": "1d9cb287-5029-4bb6-93a5-1fd45c543057",
   "metadata": {},
   "outputs": [],
   "source": [
    "#linear lower\n",
    "def linear_approx(V2, n):\n",
    "    x = cp.Variable(n)\n",
    "    y = cp.Variable(n)\n",
    "    u = cp.Variable((n,n))\n",
    "\n",
    "    c1 = cp.sum(cp.multiply(V2, u))\n",
    "    cx = cp.reshape(x,(n,1)) @ cp.reshape(np.ones([1,n]),(1,n))\n",
    "    cy = cp.reshape(np.ones([1,n]),(n,1)) @ cp.reshape(y,(1,n))\n",
    "\n",
    "    constraints = [cp.vec(u) >= 0, cp.vec(u) <= 1, \n",
    "                   0 <= x, x <= 1, 0 <= y, y <= 1, \n",
    "                   x >= rx, x <= rx + 1, y >= ry, y <= ry + 1,\n",
    "                   c1 >= 1, u <= cx, u <= cy, cx + cy - 1  <= u\n",
    "                   ]\n",
    "    prob = cp.Problem(cp.Minimize(cp.sum(u)),constraints)\n",
    "    sol = prob.solve()\n",
    "    print(\"x = \", x.value)\n",
    "    print(\"y = \", y.value)\n",
    "    print(\"u = \", u.value)\n",
    "    print(\"sol = \", np.ceil(sol))\n",
    "    return int(np.ceil(sol))"
   ]
  },
  {
   "cell_type": "code",
   "execution_count": null,
   "id": "bb9ca38a-00ed-4bcc-994b-8c8af42da8bb",
   "metadata": {},
   "outputs": [],
   "source": [
    "#sdp lower\n",
    "def sdp_approx(VV, n):\n",
    "    x = cp.Variable(2*n)\n",
    "    u = cp.Variable((2*n,2*n))\n",
    "    \n",
    "    Z = np.zeros((n,n))\n",
    "    O = np.ones((n,n))\n",
    "    Vsym = np.concatenate((np.concatenate((Z,0.5*VV), axis =1), np.concatenate((0.5*VV.T, Z), axis =1)))\n",
    "    Idsym = np.concatenate((np.concatenate((Z,0.5*O), axis =1), np.concatenate((0.5*O, Z), axis =1)))\n",
    "\n",
    "    c1 = cp.sum(cp.multiply(Vsym, u))\n",
    "    cx = cp.reshape(x,(2*n,1)) @ cp.reshape(np.ones([1,2*n]),(1,2*n))\n",
    "    cy = cp.reshape(np.ones([1,2*n]),(2*n,1)) @ cp.reshape(x,(1,2*n))\n",
    "    ctrace = cp.trace(u - cp.diag(x))\n",
    "    \n",
    "    A11= cp.reshape(1, (1, 1))\n",
    "    A12= cp.reshape(x, (1, 2*n))\n",
    "    A1 = cp.hstack([A11, A12])\n",
    "\n",
    "    A21= cp.reshape(x, (2*n,1))\n",
    "    A22= u\n",
    "    A2 = cp.hstack([A21, A22])\n",
    "    M = cp.vstack([A1, A2])\n",
    "    \n",
    "\n",
    "    constraints = [cp.vec(u) >= 0, cp.vec(u) <= 1, 0 <= x, x <= 1, c1 >= 1, u <= cx, u <= cy, cx + cy - 1  <= u, ctrace == 0, M >> 0]\n",
    "    prob = cp.Problem(cp.Minimize(cp.sum(cp.multiply(Idsym, u))), constraints)\n",
    "    return int(np.ceil(prob.solve()))"
   ]
  },
  {
   "cell_type": "code",
   "execution_count": null,
   "id": "2d834420-e2bc-474c-9e02-1843682b32eb",
   "metadata": {},
   "outputs": [],
   "source": [
    "#k-width upper\n",
    "def upper_bound_2(VV, n):\n",
    "    res = []\n",
    "    for i in range(n):\n",
    "        for j in range(i+1,n):\n",
    "            ind_subset = [i,j]\n",
    "            VV_tr = VV[ind_subset, :]\n",
    "            sums = np.sum(VV_tr, axis = 0)\n",
    "            argsorted_sums = np.argsort(sums)\n",
    "            cumsum = 0\n",
    "            count = 0\n",
    "            while cumsum < 1:\n",
    "                count += 1\n",
    "                cumsum += sums[argsorted_sums[-count]]\n",
    "            res.append(count*2)\n",
    "            VV_tr = VV[:,ind_subset]\n",
    "            sums = np.sum(VV_tr, axis = 1)\n",
    "            argsorted_sums = np.argsort(sums)\n",
    "            cumsum = 0\n",
    "            count = 0\n",
    "            while cumsum < 1:\n",
    "                count += 1\n",
    "                cumsum += sums[argsorted_sums[-count]]\n",
    "            res.append(count*2)\n",
    "    return np.min(res)"
   ]
  },
  {
   "cell_type": "markdown",
   "id": "831b9010-7048-4069-92a6-ccae75dec49d",
   "metadata": {},
   "source": [
    "## Custom Methods"
   ]
  },
  {
   "cell_type": "code",
   "execution_count": null,
   "id": "70016fa5-15bf-4dd6-8a11-5d98f6497a09",
   "metadata": {},
   "outputs": [],
   "source": [
    "#custom linear\n",
    "def linear_mod(V2, n, rx, ry):\n",
    "    x = cp.Variable(n)\n",
    "    y = cp.Variable(n)\n",
    "    u = cp.Variable((n,n))\n",
    "\n",
    "    c1 = cp.sum(cp.multiply(V2, u))\n",
    "    cx = cp.reshape(x,(n,1)) @ cp.reshape(np.ones([1,n]),(1,n))\n",
    "    cy = cp.reshape(np.ones([1,n]),(n,1)) @ cp.reshape(y,(1,n))\n",
    "\n",
    "    constraints = [cp.vec(u) >= 0, cp.vec(u) <= 1, \n",
    "                   0 <= x, x <= 1, 0 <= y, y <= 1, \n",
    "                   x >= rx, x <= rx + 1, y >= ry, y <= ry + 1,\n",
    "                   c1 >= 1, u <= cx, u <= cy, cx + cy - 1  <= u\n",
    "                   ]\n",
    "    prob = cp.Problem(cp.Minimize(cp.sum(u)),constraints)\n",
    "    sol = prob.solve()\n",
    "    print(\"x = \", x.value)\n",
    "    print(\"y = \", y.value)\n",
    "    print(\"u = \", u.value)\n",
    "    return int(np.ceil(sol))"
   ]
  },
  {
   "cell_type": "code",
   "execution_count": null,
   "id": "dbeb2d31-2feb-4fdc-ad16-7bfc87c9bb3c",
   "metadata": {},
   "outputs": [],
   "source": [
    "#Utility functions for no_gaps_mod\n",
    "def sortsum(c):\n",
    "    a = np.sort(c)\n",
    "    return np.cumsum(a) - a\n",
    "\n",
    "def sortsummatrix(VV):\n",
    "    n = VV.shape[0]\n",
    "    A = np.zeros(VV.shape);\n",
    "    for i in range(n):\n",
    "        A[i,:] = sortsum(VV[i,:])\n",
    "    return A"
   ]
  },
  {
   "cell_type": "code",
   "execution_count": null,
   "id": "dc155ed4-c932-4fb9-9cac-ad80be318f4b",
   "metadata": {},
   "outputs": [],
   "source": [
    "#custom greedy\n",
    "def no_gaps_mod(VV, n):\n",
    "    P = sortsummatrix(VV)\n",
    "    res = []\n",
    "    for ki in range(n):\n",
    "        for kj in range(ki+1,n):\n",
    "            #sum up each row restricted to ki, kj\n",
    "            ind_subset = [ki,kj]\n",
    "            VV_tr = VV[:,ind_subset]\n",
    "            sums = np.sum(VV_tr, axis = 1)\n",
    "            \n",
    "            for i in range (2,n):\n",
    "                #Add the restricted sum, to the best remaining i - 2 elements in the row\n",
    "                T = sums + P[:, i - 2]\n",
    "                T = np.sort(T)\n",
    "\n",
    "                #keep selecting the best rows until we exceed 1\n",
    "                cumsum = 0\n",
    "                count = 0\n",
    "                while cumsum < 1:\n",
    "                    cumsum += T[count]\n",
    "                    count += 1\n",
    "                res.append(i*count)\n",
    "    return np.min(res)"
   ]
  },
  {
   "cell_type": "code",
   "execution_count": null,
   "id": "48d512fa-e570-4e63-b631-9315c4b3fc0a",
   "metadata": {},
   "outputs": [],
   "source": [
    "# Upper bound from no_gaps_mod"
   ]
  },
  {
   "cell_type": "markdown",
   "id": "5974cf39-eff9-40c5-93ce-aa27896170f3",
   "metadata": {},
   "source": [
    "# Experiments"
   ]
  },
  {
   "cell_type": "markdown",
   "id": "5760371d-d6ec-431d-a639-4be6e837bddd",
   "metadata": {},
   "source": [
    "## Linear Method Experiments"
   ]
  },
  {
   "cell_type": "code",
   "execution_count": null,
   "id": "aca1dd77-cbee-4d3b-94ca-2edda9f61d2d",
   "metadata": {},
   "outputs": [],
   "source": [
    "# Demonstrate the distribution of x for case n = 150"
   ]
  },
  {
   "cell_type": "code",
   "execution_count": null,
   "id": "3e3452bd-02f3-474b-a5f2-5617c2deefc9",
   "metadata": {},
   "outputs": [],
   "source": [
    "# Show improved distribution of x for our new method"
   ]
  },
  {
   "cell_type": "code",
   "execution_count": null,
   "id": "3acf262b-e17b-400b-96ca-b1d637036ffc",
   "metadata": {},
   "outputs": [],
   "source": [
    "# Improved lower bound"
   ]
  },
  {
   "cell_type": "markdown",
   "id": "1ce6f57d-05f5-4f02-83e0-625ee6a7eeaa",
   "metadata": {},
   "source": [
    "## Comparing Matrix Types"
   ]
  },
  {
   "cell_type": "code",
   "execution_count": null,
   "id": "bbc10705-ba63-4eb8-bc56-edc4fb6c6035",
   "metadata": {},
   "outputs": [],
   "source": [
    "# Compare the distribution of degrees"
   ]
  },
  {
   "cell_type": "code",
   "execution_count": null,
   "id": "bb094d11-7dcb-477a-b959-3cf0253014cc",
   "metadata": {},
   "outputs": [],
   "source": [
    "# Compare the distribution of coordinates in \\Phi"
   ]
  },
  {
   "cell_type": "markdown",
   "id": "15fa055a-1462-49da-9cbd-9e0b7dafc137",
   "metadata": {},
   "source": [
    "# Results"
   ]
  },
  {
   "cell_type": "code",
   "execution_count": null,
   "id": "6cd4be46-2d34-47f2-9d65-4d2a54545120",
   "metadata": {},
   "outputs": [],
   "source": [
    "#Run all bounds on every matrix type"
   ]
  }
 ],
 "metadata": {
  "kernelspec": {
   "display_name": "Python 3 (ipykernel)",
   "language": "python",
   "name": "python3"
  },
  "language_info": {
   "codemirror_mode": {
    "name": "ipython",
    "version": 3
   },
   "file_extension": ".py",
   "mimetype": "text/x-python",
   "name": "python",
   "nbconvert_exporter": "python",
   "pygments_lexer": "ipython3",
   "version": "3.11.6"
  }
 },
 "nbformat": 4,
 "nbformat_minor": 5
}
